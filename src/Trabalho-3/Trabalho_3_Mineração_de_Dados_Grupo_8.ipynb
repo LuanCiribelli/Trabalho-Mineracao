{
  "nbformat": 4,
  "nbformat_minor": 0,
  "metadata": {
    "colab": {
      "name": "Trabalho 3 - Mineração de Dados - Grupo 8.ipynb",
      "provenance": [],
      "collapsed_sections": []
    },
    "kernelspec": {
      "name": "python3",
      "display_name": "Python 3"
    }
  },
  "cells": [
    {
      "cell_type": "markdown",
      "metadata": {
        "id": "CJnx5T5kduvz"
      },
      "source": [
        "\r\n",
        "# Trabalho 3 - Mineração de Dados - Grupo 8 - Luan e Lucas"
      ]
    },
    {
      "cell_type": "markdown",
      "metadata": {
        "id": "l9fbxV7ad2QY"
      },
      "source": [
        "###Importações de bibliotecas externas"
      ]
    },
    {
      "cell_type": "code",
      "metadata": {
        "id": "Md5t0X-_tRWb"
      },
      "source": [
        "#Importações e Drive\n",
        "\n",
        "from google.colab import drive\n",
        "import pandas as pd\n",
        "import matplotlib.pyplot as plt\n",
        "import seaborn as sns\n",
        "import numpy as np\n",
        "import sklearn.preprocessing as skp"
      ],
      "execution_count": null,
      "outputs": []
    },
    {
      "cell_type": "code",
      "metadata": {
        "colab": {
          "base_uri": "https://localhost:8080/"
        },
        "id": "VEEKNm4_51bM",
        "outputId": "ad6e6c2e-b966-4cf3-dd08-19529ffc817b"
      },
      "source": [
        "drive.mount('/content/drive')"
      ],
      "execution_count": null,
      "outputs": [
        {
          "output_type": "stream",
          "text": [
            "Drive already mounted at /content/drive; to attempt to forcibly remount, call drive.mount(\"/content/drive\", force_remount=True).\n"
          ],
          "name": "stdout"
        }
      ]
    },
    {
      "cell_type": "markdown",
      "metadata": {
        "id": "jtkgMDVV_UAT"
      },
      "source": [
        "### Importação dos dados e observação inicial"
      ]
    },
    {
      "cell_type": "code",
      "metadata": {
        "colab": {
          "base_uri": "https://localhost:8080/",
          "height": 262
        },
        "id": "0GhMsQKi_b2a",
        "outputId": "41306513-9142-4d8d-e37d-62b035b4adda"
      },
      "source": [
        "data = pd.read_csv(\"/content/drive/MyDrive/Mineracao-de-Dados/trabalho2_dados_8.csv\").append(pd.read_csv(\"/content/drive/MyDrive/Mineracao-de-Dados/trabalho3_dados_adicionais_8.csv\"))\r\n",
        "data.head()"
      ],
      "execution_count": null,
      "outputs": [
        {
          "output_type": "execute_result",
          "data": {
            "text/html": [
              "<div>\n",
              "<style scoped>\n",
              "    .dataframe tbody tr th:only-of-type {\n",
              "        vertical-align: middle;\n",
              "    }\n",
              "\n",
              "    .dataframe tbody tr th {\n",
              "        vertical-align: top;\n",
              "    }\n",
              "\n",
              "    .dataframe thead th {\n",
              "        text-align: right;\n",
              "    }\n",
              "</style>\n",
              "<table border=\"1\" class=\"dataframe\">\n",
              "  <thead>\n",
              "    <tr style=\"text-align: right;\">\n",
              "      <th></th>\n",
              "      <th>nome</th>\n",
              "      <th>plataforma</th>\n",
              "      <th>genero</th>\n",
              "      <th>editora</th>\n",
              "      <th>vendas</th>\n",
              "      <th>lancamento</th>\n",
              "      <th>avaliacao-criticos</th>\n",
              "      <th>numero-criticos</th>\n",
              "      <th>avaliacao-usuarios</th>\n",
              "      <th>numero-usuarios</th>\n",
              "      <th>fabricante</th>\n",
              "    </tr>\n",
              "  </thead>\n",
              "  <tbody>\n",
              "    <tr>\n",
              "      <th>0</th>\n",
              "      <td>Bladestorm: The Hundred Years' War</td>\n",
              "      <td>X360</td>\n",
              "      <td>Action</td>\n",
              "      <td>Tecmo Koei</td>\n",
              "      <td>0.09</td>\n",
              "      <td>6-Nov-07</td>\n",
              "      <td>63.0</td>\n",
              "      <td>26.0</td>\n",
              "      <td>7.7</td>\n",
              "      <td>11.0</td>\n",
              "      <td>Omega Force</td>\n",
              "    </tr>\n",
              "    <tr>\n",
              "      <th>1</th>\n",
              "      <td>Sudoku Ball Detective</td>\n",
              "      <td>Wii</td>\n",
              "      <td>Puzzle</td>\n",
              "      <td>Playlogic Game Factory</td>\n",
              "      <td>0.03</td>\n",
              "      <td>13-Oct-09</td>\n",
              "      <td>NaN</td>\n",
              "      <td>NaN</td>\n",
              "      <td>tbd</td>\n",
              "      <td>NaN</td>\n",
              "      <td>Whitebear</td>\n",
              "    </tr>\n",
              "    <tr>\n",
              "      <th>2</th>\n",
              "      <td>Family Game Night 4: The Game Show</td>\n",
              "      <td>Wii</td>\n",
              "      <td>Misc</td>\n",
              "      <td>Electronic Arts</td>\n",
              "      <td>0.12</td>\n",
              "      <td>1-Nov-11</td>\n",
              "      <td>NaN</td>\n",
              "      <td>NaN</td>\n",
              "      <td>tbd</td>\n",
              "      <td>NaN</td>\n",
              "      <td>Electronic Arts</td>\n",
              "    </tr>\n",
              "    <tr>\n",
              "      <th>3</th>\n",
              "      <td>Rayman Origins</td>\n",
              "      <td>3DS</td>\n",
              "      <td>Platform</td>\n",
              "      <td>Ubisoft</td>\n",
              "      <td>0.08</td>\n",
              "      <td>6-Nov-12</td>\n",
              "      <td>71.0</td>\n",
              "      <td>8.0</td>\n",
              "      <td>6.1</td>\n",
              "      <td>41.0</td>\n",
              "      <td>UBlart Montpellier</td>\n",
              "    </tr>\n",
              "    <tr>\n",
              "      <th>4</th>\n",
              "      <td>World Championship Poker: Howard Lederer - All In</td>\n",
              "      <td>PSP</td>\n",
              "      <td>Misc</td>\n",
              "      <td>505 Games</td>\n",
              "      <td>0.14</td>\n",
              "      <td>NaN</td>\n",
              "      <td>NaN</td>\n",
              "      <td>NaN</td>\n",
              "      <td>NaN</td>\n",
              "      <td>NaN</td>\n",
              "      <td>NaN</td>\n",
              "    </tr>\n",
              "  </tbody>\n",
              "</table>\n",
              "</div>"
            ],
            "text/plain": [
              "                                                nome  ...          fabricante\n",
              "0                 Bladestorm: The Hundred Years' War  ...         Omega Force\n",
              "1                              Sudoku Ball Detective  ...           Whitebear\n",
              "2                 Family Game Night 4: The Game Show  ...     Electronic Arts\n",
              "3                                     Rayman Origins  ...  UBlart Montpellier\n",
              "4  World Championship Poker: Howard Lederer - All In  ...                 NaN\n",
              "\n",
              "[5 rows x 11 columns]"
            ]
          },
          "metadata": {
            "tags": []
          },
          "execution_count": 3
        }
      ]
    },
    {
      "cell_type": "code",
      "metadata": {
        "colab": {
          "base_uri": "https://localhost:8080/"
        },
        "id": "3lxkbjO9ivKB",
        "outputId": "4bc5e881-a799-4617-e48c-8ebba66e18d2"
      },
      "source": [
        "data.info()"
      ],
      "execution_count": null,
      "outputs": [
        {
          "output_type": "stream",
          "text": [
            "<class 'pandas.core.frame.DataFrame'>\n",
            "Int64Index: 3203 entries, 0 to 1570\n",
            "Data columns (total 11 columns):\n",
            " #   Column              Non-Null Count  Dtype  \n",
            "---  ------              --------------  -----  \n",
            " 0   nome                3203 non-null   object \n",
            " 1   plataforma          3203 non-null   object \n",
            " 2   genero              3203 non-null   object \n",
            " 3   editora             3197 non-null   object \n",
            " 4   vendas              3203 non-null   float64\n",
            " 5   lancamento          2461 non-null   object \n",
            " 6   avaliacao-criticos  2023 non-null   float64\n",
            " 7   numero-criticos     2023 non-null   float64\n",
            " 8   avaliacao-usuarios  2422 non-null   object \n",
            " 9   numero-usuarios     1906 non-null   float64\n",
            " 10  fabricante          2451 non-null   object \n",
            "dtypes: float64(4), object(7)\n",
            "memory usage: 300.3+ KB\n"
          ],
          "name": "stdout"
        }
      ]
    },
    {
      "cell_type": "markdown",
      "metadata": {
        "id": "zEq5ndEyAZNP"
      },
      "source": [
        "# Tratamento dos Dados"
      ]
    },
    {
      "cell_type": "markdown",
      "metadata": {
        "id": "v3-eU1YNAvBC"
      },
      "source": [
        "### One-Hot-Encoding da Plataforma e do Gênero"
      ]
    },
    {
      "cell_type": "markdown",
      "metadata": {
        "id": "gxK1guydflGg"
      },
      "source": [
        "Dado que diversos modelos de Aprendizado de Máquina não suportam dados categóricos, foi usada a técnica “One-Hot Encoding” para colocá-los em um formato numérico que esses modelos aceitem."
      ]
    },
    {
      "cell_type": "code",
      "metadata": {
        "colab": {
          "base_uri": "https://localhost:8080/",
          "height": 195
        },
        "id": "xex1WN6tBAtC",
        "outputId": "6a42f043-eb5e-4cfc-fd3a-67770a6701cd"
      },
      "source": [
        "pd.get_dummies(data.plataforma, prefix='Plataforma').head()"
      ],
      "execution_count": null,
      "outputs": [
        {
          "output_type": "execute_result",
          "data": {
            "text/html": [
              "<div>\n",
              "<style scoped>\n",
              "    .dataframe tbody tr th:only-of-type {\n",
              "        vertical-align: middle;\n",
              "    }\n",
              "\n",
              "    .dataframe tbody tr th {\n",
              "        vertical-align: top;\n",
              "    }\n",
              "\n",
              "    .dataframe thead th {\n",
              "        text-align: right;\n",
              "    }\n",
              "</style>\n",
              "<table border=\"1\" class=\"dataframe\">\n",
              "  <thead>\n",
              "    <tr style=\"text-align: right;\">\n",
              "      <th></th>\n",
              "      <th>Plataforma_3DS</th>\n",
              "      <th>Plataforma_PS3</th>\n",
              "      <th>Plataforma_PS4</th>\n",
              "      <th>Plataforma_PSP</th>\n",
              "      <th>Plataforma_PSV</th>\n",
              "      <th>Plataforma_Wii</th>\n",
              "      <th>Plataforma_WiiU</th>\n",
              "      <th>Plataforma_X360</th>\n",
              "      <th>Plataforma_XOne</th>\n",
              "    </tr>\n",
              "  </thead>\n",
              "  <tbody>\n",
              "    <tr>\n",
              "      <th>0</th>\n",
              "      <td>0</td>\n",
              "      <td>0</td>\n",
              "      <td>0</td>\n",
              "      <td>0</td>\n",
              "      <td>0</td>\n",
              "      <td>0</td>\n",
              "      <td>0</td>\n",
              "      <td>1</td>\n",
              "      <td>0</td>\n",
              "    </tr>\n",
              "    <tr>\n",
              "      <th>1</th>\n",
              "      <td>0</td>\n",
              "      <td>0</td>\n",
              "      <td>0</td>\n",
              "      <td>0</td>\n",
              "      <td>0</td>\n",
              "      <td>1</td>\n",
              "      <td>0</td>\n",
              "      <td>0</td>\n",
              "      <td>0</td>\n",
              "    </tr>\n",
              "    <tr>\n",
              "      <th>2</th>\n",
              "      <td>0</td>\n",
              "      <td>0</td>\n",
              "      <td>0</td>\n",
              "      <td>0</td>\n",
              "      <td>0</td>\n",
              "      <td>1</td>\n",
              "      <td>0</td>\n",
              "      <td>0</td>\n",
              "      <td>0</td>\n",
              "    </tr>\n",
              "    <tr>\n",
              "      <th>3</th>\n",
              "      <td>1</td>\n",
              "      <td>0</td>\n",
              "      <td>0</td>\n",
              "      <td>0</td>\n",
              "      <td>0</td>\n",
              "      <td>0</td>\n",
              "      <td>0</td>\n",
              "      <td>0</td>\n",
              "      <td>0</td>\n",
              "    </tr>\n",
              "    <tr>\n",
              "      <th>4</th>\n",
              "      <td>0</td>\n",
              "      <td>0</td>\n",
              "      <td>0</td>\n",
              "      <td>1</td>\n",
              "      <td>0</td>\n",
              "      <td>0</td>\n",
              "      <td>0</td>\n",
              "      <td>0</td>\n",
              "      <td>0</td>\n",
              "    </tr>\n",
              "  </tbody>\n",
              "</table>\n",
              "</div>"
            ],
            "text/plain": [
              "   Plataforma_3DS  Plataforma_PS3  ...  Plataforma_X360  Plataforma_XOne\n",
              "0               0               0  ...                1                0\n",
              "1               0               0  ...                0                0\n",
              "2               0               0  ...                0                0\n",
              "3               1               0  ...                0                0\n",
              "4               0               0  ...                0                0\n",
              "\n",
              "[5 rows x 9 columns]"
            ]
          },
          "metadata": {
            "tags": []
          },
          "execution_count": 5
        }
      ]
    },
    {
      "cell_type": "code",
      "metadata": {
        "colab": {
          "base_uri": "https://localhost:8080/",
          "height": 232
        },
        "id": "RBHNya7QIkUz",
        "outputId": "dda3e52b-99db-4a79-c52b-bc5cbf68c712"
      },
      "source": [
        "pd.get_dummies(data.genero, prefix='Genero').head()"
      ],
      "execution_count": null,
      "outputs": [
        {
          "output_type": "execute_result",
          "data": {
            "text/html": [
              "<div>\n",
              "<style scoped>\n",
              "    .dataframe tbody tr th:only-of-type {\n",
              "        vertical-align: middle;\n",
              "    }\n",
              "\n",
              "    .dataframe tbody tr th {\n",
              "        vertical-align: top;\n",
              "    }\n",
              "\n",
              "    .dataframe thead th {\n",
              "        text-align: right;\n",
              "    }\n",
              "</style>\n",
              "<table border=\"1\" class=\"dataframe\">\n",
              "  <thead>\n",
              "    <tr style=\"text-align: right;\">\n",
              "      <th></th>\n",
              "      <th>Genero_Action</th>\n",
              "      <th>Genero_Adventure</th>\n",
              "      <th>Genero_Fighting</th>\n",
              "      <th>Genero_Misc</th>\n",
              "      <th>Genero_Platform</th>\n",
              "      <th>Genero_Puzzle</th>\n",
              "      <th>Genero_Racing</th>\n",
              "      <th>Genero_Role-Playing</th>\n",
              "      <th>Genero_Shooter</th>\n",
              "      <th>Genero_Simulation</th>\n",
              "      <th>Genero_Sports</th>\n",
              "      <th>Genero_Strategy</th>\n",
              "    </tr>\n",
              "  </thead>\n",
              "  <tbody>\n",
              "    <tr>\n",
              "      <th>0</th>\n",
              "      <td>1</td>\n",
              "      <td>0</td>\n",
              "      <td>0</td>\n",
              "      <td>0</td>\n",
              "      <td>0</td>\n",
              "      <td>0</td>\n",
              "      <td>0</td>\n",
              "      <td>0</td>\n",
              "      <td>0</td>\n",
              "      <td>0</td>\n",
              "      <td>0</td>\n",
              "      <td>0</td>\n",
              "    </tr>\n",
              "    <tr>\n",
              "      <th>1</th>\n",
              "      <td>0</td>\n",
              "      <td>0</td>\n",
              "      <td>0</td>\n",
              "      <td>0</td>\n",
              "      <td>0</td>\n",
              "      <td>1</td>\n",
              "      <td>0</td>\n",
              "      <td>0</td>\n",
              "      <td>0</td>\n",
              "      <td>0</td>\n",
              "      <td>0</td>\n",
              "      <td>0</td>\n",
              "    </tr>\n",
              "    <tr>\n",
              "      <th>2</th>\n",
              "      <td>0</td>\n",
              "      <td>0</td>\n",
              "      <td>0</td>\n",
              "      <td>1</td>\n",
              "      <td>0</td>\n",
              "      <td>0</td>\n",
              "      <td>0</td>\n",
              "      <td>0</td>\n",
              "      <td>0</td>\n",
              "      <td>0</td>\n",
              "      <td>0</td>\n",
              "      <td>0</td>\n",
              "    </tr>\n",
              "    <tr>\n",
              "      <th>3</th>\n",
              "      <td>0</td>\n",
              "      <td>0</td>\n",
              "      <td>0</td>\n",
              "      <td>0</td>\n",
              "      <td>1</td>\n",
              "      <td>0</td>\n",
              "      <td>0</td>\n",
              "      <td>0</td>\n",
              "      <td>0</td>\n",
              "      <td>0</td>\n",
              "      <td>0</td>\n",
              "      <td>0</td>\n",
              "    </tr>\n",
              "    <tr>\n",
              "      <th>4</th>\n",
              "      <td>0</td>\n",
              "      <td>0</td>\n",
              "      <td>0</td>\n",
              "      <td>1</td>\n",
              "      <td>0</td>\n",
              "      <td>0</td>\n",
              "      <td>0</td>\n",
              "      <td>0</td>\n",
              "      <td>0</td>\n",
              "      <td>0</td>\n",
              "      <td>0</td>\n",
              "      <td>0</td>\n",
              "    </tr>\n",
              "  </tbody>\n",
              "</table>\n",
              "</div>"
            ],
            "text/plain": [
              "   Genero_Action  Genero_Adventure  ...  Genero_Sports  Genero_Strategy\n",
              "0              1                 0  ...              0                0\n",
              "1              0                 0  ...              0                0\n",
              "2              0                 0  ...              0                0\n",
              "3              0                 0  ...              0                0\n",
              "4              0                 0  ...              0                0\n",
              "\n",
              "[5 rows x 12 columns]"
            ]
          },
          "metadata": {
            "tags": []
          },
          "execution_count": 6
        }
      ]
    },
    {
      "cell_type": "code",
      "metadata": {
        "colab": {
          "base_uri": "https://localhost:8080/"
        },
        "id": "4jMMmMlxXEB0",
        "outputId": "6945ecdf-2423-415d-b918-bc6e5dbd1d2e"
      },
      "source": [
        "data_oh_enc = pd.concat([data, pd.get_dummies(data.plataforma, prefix='plataforma'), pd.get_dummies(data.genero, prefix='genero')], axis=1).drop(columns=[\"plataforma\", \"genero\"] )\r\n",
        "data_oh_enc.info()"
      ],
      "execution_count": null,
      "outputs": [
        {
          "output_type": "stream",
          "text": [
            "<class 'pandas.core.frame.DataFrame'>\n",
            "Int64Index: 3203 entries, 0 to 1570\n",
            "Data columns (total 30 columns):\n",
            " #   Column               Non-Null Count  Dtype  \n",
            "---  ------               --------------  -----  \n",
            " 0   nome                 3203 non-null   object \n",
            " 1   editora              3197 non-null   object \n",
            " 2   vendas               3203 non-null   float64\n",
            " 3   lancamento           2461 non-null   object \n",
            " 4   avaliacao-criticos   2023 non-null   float64\n",
            " 5   numero-criticos      2023 non-null   float64\n",
            " 6   avaliacao-usuarios   2422 non-null   object \n",
            " 7   numero-usuarios      1906 non-null   float64\n",
            " 8   fabricante           2451 non-null   object \n",
            " 9   plataforma_3DS       3203 non-null   uint8  \n",
            " 10  plataforma_PS3       3203 non-null   uint8  \n",
            " 11  plataforma_PS4       3203 non-null   uint8  \n",
            " 12  plataforma_PSP       3203 non-null   uint8  \n",
            " 13  plataforma_PSV       3203 non-null   uint8  \n",
            " 14  plataforma_Wii       3203 non-null   uint8  \n",
            " 15  plataforma_WiiU      3203 non-null   uint8  \n",
            " 16  plataforma_X360      3203 non-null   uint8  \n",
            " 17  plataforma_XOne      3203 non-null   uint8  \n",
            " 18  genero_Action        3203 non-null   uint8  \n",
            " 19  genero_Adventure     3203 non-null   uint8  \n",
            " 20  genero_Fighting      3203 non-null   uint8  \n",
            " 21  genero_Misc          3203 non-null   uint8  \n",
            " 22  genero_Platform      3203 non-null   uint8  \n",
            " 23  genero_Puzzle        3203 non-null   uint8  \n",
            " 24  genero_Racing        3203 non-null   uint8  \n",
            " 25  genero_Role-Playing  3203 non-null   uint8  \n",
            " 26  genero_Shooter       3203 non-null   uint8  \n",
            " 27  genero_Simulation    3203 non-null   uint8  \n",
            " 28  genero_Sports        3203 non-null   uint8  \n",
            " 29  genero_Strategy      3203 non-null   uint8  \n",
            "dtypes: float64(4), object(5), uint8(21)\n",
            "memory usage: 315.9+ KB\n"
          ],
          "name": "stdout"
        }
      ]
    },
    {
      "cell_type": "markdown",
      "metadata": {
        "id": "SOGlMV9rAcXP"
      },
      "source": [
        "### Tratamento de Inconsistências e transformações de tipo nas Avaliações e datas de Lançamento"
      ]
    },
    {
      "cell_type": "code",
      "metadata": {
        "id": "0oCLNI5OAPRn"
      },
      "source": [
        "data_oh_enc.lancamento = pd.to_datetime(data_oh_enc.lancamento, errors=\"coerce\")"
      ],
      "execution_count": null,
      "outputs": []
    },
    {
      "cell_type": "code",
      "metadata": {
        "colab": {
          "base_uri": "https://localhost:8080/"
        },
        "id": "Zg_qcm5Ae0h7",
        "outputId": "8a347326-0870-4376-81d2-82fa301aa0a7"
      },
      "source": [
        "data_oh_enc.info()"
      ],
      "execution_count": null,
      "outputs": [
        {
          "output_type": "stream",
          "text": [
            "<class 'pandas.core.frame.DataFrame'>\n",
            "Int64Index: 3203 entries, 0 to 1570\n",
            "Data columns (total 30 columns):\n",
            " #   Column               Non-Null Count  Dtype         \n",
            "---  ------               --------------  -----         \n",
            " 0   nome                 3203 non-null   object        \n",
            " 1   editora              3197 non-null   object        \n",
            " 2   vendas               3203 non-null   float64       \n",
            " 3   lancamento           2431 non-null   datetime64[ns]\n",
            " 4   avaliacao-criticos   2023 non-null   float64       \n",
            " 5   numero-criticos      2023 non-null   float64       \n",
            " 6   avaliacao-usuarios   2422 non-null   object        \n",
            " 7   numero-usuarios      1906 non-null   float64       \n",
            " 8   fabricante           2451 non-null   object        \n",
            " 9   plataforma_3DS       3203 non-null   uint8         \n",
            " 10  plataforma_PS3       3203 non-null   uint8         \n",
            " 11  plataforma_PS4       3203 non-null   uint8         \n",
            " 12  plataforma_PSP       3203 non-null   uint8         \n",
            " 13  plataforma_PSV       3203 non-null   uint8         \n",
            " 14  plataforma_Wii       3203 non-null   uint8         \n",
            " 15  plataforma_WiiU      3203 non-null   uint8         \n",
            " 16  plataforma_X360      3203 non-null   uint8         \n",
            " 17  plataforma_XOne      3203 non-null   uint8         \n",
            " 18  genero_Action        3203 non-null   uint8         \n",
            " 19  genero_Adventure     3203 non-null   uint8         \n",
            " 20  genero_Fighting      3203 non-null   uint8         \n",
            " 21  genero_Misc          3203 non-null   uint8         \n",
            " 22  genero_Platform      3203 non-null   uint8         \n",
            " 23  genero_Puzzle        3203 non-null   uint8         \n",
            " 24  genero_Racing        3203 non-null   uint8         \n",
            " 25  genero_Role-Playing  3203 non-null   uint8         \n",
            " 26  genero_Shooter       3203 non-null   uint8         \n",
            " 27  genero_Simulation    3203 non-null   uint8         \n",
            " 28  genero_Sports        3203 non-null   uint8         \n",
            " 29  genero_Strategy      3203 non-null   uint8         \n",
            "dtypes: datetime64[ns](1), float64(4), object(4), uint8(21)\n",
            "memory usage: 315.9+ KB\n"
          ],
          "name": "stdout"
        }
      ]
    },
    {
      "cell_type": "code",
      "metadata": {
        "colab": {
          "base_uri": "https://localhost:8080/"
        },
        "id": "jhJ4a5rpn57Y",
        "outputId": "a3af34e1-b65d-4d95-a20b-87487dd4c704"
      },
      "source": [
        "data_oh_enc.columns.to_list()"
      ],
      "execution_count": null,
      "outputs": [
        {
          "output_type": "execute_result",
          "data": {
            "text/plain": [
              "['nome',\n",
              " 'editora',\n",
              " 'vendas',\n",
              " 'lancamento',\n",
              " 'avaliacao-criticos',\n",
              " 'numero-criticos',\n",
              " 'avaliacao-usuarios',\n",
              " 'numero-usuarios',\n",
              " 'fabricante',\n",
              " 'plataforma_3DS',\n",
              " 'plataforma_PS3',\n",
              " 'plataforma_PS4',\n",
              " 'plataforma_PSP',\n",
              " 'plataforma_PSV',\n",
              " 'plataforma_Wii',\n",
              " 'plataforma_WiiU',\n",
              " 'plataforma_X360',\n",
              " 'plataforma_XOne',\n",
              " 'genero_Action',\n",
              " 'genero_Adventure',\n",
              " 'genero_Fighting',\n",
              " 'genero_Misc',\n",
              " 'genero_Platform',\n",
              " 'genero_Puzzle',\n",
              " 'genero_Racing',\n",
              " 'genero_Role-Playing',\n",
              " 'genero_Shooter',\n",
              " 'genero_Simulation',\n",
              " 'genero_Sports',\n",
              " 'genero_Strategy']"
            ]
          },
          "metadata": {
            "tags": []
          },
          "execution_count": 10
        }
      ]
    },
    {
      "cell_type": "markdown",
      "metadata": {
        "id": "-QeZgetegFWl"
      },
      "source": [
        "Como podemos perceber a avaliação dos usuários não está no tipo: “float”"
      ]
    },
    {
      "cell_type": "code",
      "metadata": {
        "colab": {
          "base_uri": "https://localhost:8080/"
        },
        "id": "_PcLFPVkg_VO",
        "outputId": "bd4365a2-0dd3-456b-d6f8-fd09b98f2451"
      },
      "source": [
        "data_oh_enc['avaliacao-usuarios'].unique()"
      ],
      "execution_count": null,
      "outputs": [
        {
          "output_type": "execute_result",
          "data": {
            "text/plain": [
              "array(['7.7', 'tbd', '6.1', nan, '7.3', '2.8', '8.3', '5.7', '6.7', '6.2',\n",
              "       '8.7', '6.8', '4', '7.2', '7.5', '8.6', '8.8', '7', '7.6', '7.4',\n",
              "       '8.2', '8.1', '7.1', '6.9', '8.4', '6.5', '5', '8', '5.8', '7.8',\n",
              "       '6.4', '5.3', '4.9', '5.9', '6.6', '3.1', '4.3', '2.2', '5.2',\n",
              "       '8.5', '6.3', '4.6', '4.5', '3.9', '7.9', '5.4', '4.8', '4.4',\n",
              "       '2.7', '2.1', '5.5', '9.2', '6', '2.5', '2', '8.9', '1.4', '4.7',\n",
              "       '2.4', '2.9', '4.2', '3.3', '3.7', '9', '5.1', '9.1', '3.2', '3.5',\n",
              "       '4.1', '3.8', '0.8', '3', '1.3', '2.3', '5.6', '1.5', '3.6', '1',\n",
              "       '1.8', '3.4', '0.7', '1.6', '0.9'], dtype=object)"
            ]
          },
          "metadata": {
            "tags": []
          },
          "execution_count": 11
        }
      ]
    },
    {
      "cell_type": "markdown",
      "metadata": {
        "id": "hNXja7TKhOUR"
      },
      "source": [
        "Além disso, todos os dados podem ser transformados em float com exceção de \"tbd\", assim com intuito de transformar todos os valores em float, transformaremos os \"tbd\" em NaN(not a number)."
      ]
    },
    {
      "cell_type": "code",
      "metadata": {
        "id": "LdMStS_yh-l0"
      },
      "source": [
        "data_oh_enc[\"avaliacao-usuarios\"] = data_oh_enc[\"avaliacao-usuarios\"].replace('tbd', np.nan).astype(float)"
      ],
      "execution_count": null,
      "outputs": []
    },
    {
      "cell_type": "markdown",
      "metadata": {
        "id": "tzXpJgpFBC6n"
      },
      "source": [
        "### Unicidade de Nome"
      ]
    },
    {
      "cell_type": "markdown",
      "metadata": {
        "id": "354FJDuukpAk"
      },
      "source": [
        "Como existem múltiplos registros para o mesmo jogo, dado que cada plataforma tem sua própria versão, e é feita uma contagem individual de cada versão, iremos unir esses registros. Porém trataremos cada grupo de colunas de forma particular.\n",
        " \n",
        "Faremos isso dividido o DataFrame em vários e tratando individualmente os casos de cada grupo de colunas. E seguindo os seguintes parâmetros :\n"
      ]
    },
    {
      "cell_type": "markdown",
      "metadata": {
        "id": "nnVbX8-JlTNH"
      },
      "source": [
        "As colunas \"Nome\", \"Editora\", \"Lançamento\" e \"Fabricante\" normalmente não mudam de plataforma em plataforma, portanto para cada grupo de instâncias com o mesmo nome, manteremos a primeira ocorrência não nula destes."
      ]
    },
    {
      "cell_type": "code",
      "metadata": {
        "id": "7qV4jJPXBLat"
      },
      "source": [
        "data_primeiro_editora = data_oh_enc[[\"nome\",\"editora\"]].sort_values(\"editora\", ascending=False).groupby(by='nome').first()\r\n",
        "data_primeiro_lancamento = data_oh_enc[[\"nome\",\"lancamento\"]].sort_values(\"lancamento\", ascending=False).groupby(by='nome').first()\r\n",
        "data_primeiro_fabricante = data_oh_enc[[\"nome\",\"fabricante\"]].sort_values(\"fabricante\", ascending=False).groupby(by='nome').first()\r\n",
        "\r\n",
        "data_primeiro = pd.concat([data_primeiro_editora, data_primeiro_lancamento, data_primeiro_fabricante], axis=1)"
      ],
      "execution_count": null,
      "outputs": []
    },
    {
      "cell_type": "markdown",
      "metadata": {
        "id": "zRMIokYqm9ML"
      },
      "source": [
        "As colunas OneHot e vendas serão somadas em todas as instâncias, pois assim poderemos manter as informações sobre quais plataformas um jogo foi publicado e o número total de vendas do jogo em todas as plataformas."
      ]
    },
    {
      "cell_type": "code",
      "metadata": {
        "id": "iUQDWJmCm8cF"
      },
      "source": [
        "data_sum = data_oh_enc[[\"nome\",\"vendas\", 'plataforma_3DS', 'plataforma_PS3', 'plataforma_PS4', 'plataforma_PSP', 'plataforma_PSV', 'plataforma_Wii',\r\n",
        " 'plataforma_WiiU', 'plataforma_X360', 'plataforma_XOne', 'genero_Action', 'genero_Adventure', 'genero_Fighting', 'genero_Misc', 'genero_Platform',\r\n",
        " 'genero_Puzzle',  'genero_Racing',  'genero_Role-Playing',  'genero_Shooter',  'genero_Simulation', 'genero_Sports', 'genero_Strategy', \"numero-criticos\",\"numero-usuarios\"]].fillna(0).groupby(by='nome').sum()"
      ],
      "execution_count": null,
      "outputs": []
    },
    {
      "cell_type": "markdown",
      "metadata": {
        "id": "iQqh-nBustQG"
      },
      "source": [
        "Para as colunas de avaliação, será feita uma média simples das avaliações, valores \"NaN\" serão ignorados."
      ]
    },
    {
      "cell_type": "code",
      "metadata": {
        "id": "1G9EhvLjplRL"
      },
      "source": [
        "data_avg = data_oh_enc[[\"nome\", \"avaliacao-criticos\",\"avaliacao-usuarios\"]].groupby('nome').mean()"
      ],
      "execution_count": null,
      "outputs": []
    },
    {
      "cell_type": "code",
      "metadata": {
        "colab": {
          "base_uri": "https://localhost:8080/",
          "height": 225
        },
        "id": "hPtpZxiev6DT",
        "outputId": "24409267-a39a-4329-b827-102ebb6a02d5"
      },
      "source": [
        "data_avg.head()"
      ],
      "execution_count": null,
      "outputs": [
        {
          "output_type": "execute_result",
          "data": {
            "text/html": [
              "<div>\n",
              "<style scoped>\n",
              "    .dataframe tbody tr th:only-of-type {\n",
              "        vertical-align: middle;\n",
              "    }\n",
              "\n",
              "    .dataframe tbody tr th {\n",
              "        vertical-align: top;\n",
              "    }\n",
              "\n",
              "    .dataframe thead th {\n",
              "        text-align: right;\n",
              "    }\n",
              "</style>\n",
              "<table border=\"1\" class=\"dataframe\">\n",
              "  <thead>\n",
              "    <tr style=\"text-align: right;\">\n",
              "      <th></th>\n",
              "      <th>avaliacao-criticos</th>\n",
              "      <th>avaliacao-usuarios</th>\n",
              "    </tr>\n",
              "    <tr>\n",
              "      <th>nome</th>\n",
              "      <th></th>\n",
              "      <th></th>\n",
              "    </tr>\n",
              "  </thead>\n",
              "  <tbody>\n",
              "    <tr>\n",
              "      <th>.hack: Sekai no Mukou ni + Versus</th>\n",
              "      <td>NaN</td>\n",
              "      <td>NaN</td>\n",
              "    </tr>\n",
              "    <tr>\n",
              "      <th>101-in-1 Sports Party Megamix</th>\n",
              "      <td>41.000000</td>\n",
              "      <td>NaN</td>\n",
              "    </tr>\n",
              "    <tr>\n",
              "      <th>11eyes: CrossOver</th>\n",
              "      <td>NaN</td>\n",
              "      <td>NaN</td>\n",
              "    </tr>\n",
              "    <tr>\n",
              "      <th>2010 FIFA World Cup South Africa</th>\n",
              "      <td>76.166667</td>\n",
              "      <td>7.6</td>\n",
              "    </tr>\n",
              "    <tr>\n",
              "      <th>3D Dot Game Heroes</th>\n",
              "      <td>77.000000</td>\n",
              "      <td>7.9</td>\n",
              "    </tr>\n",
              "  </tbody>\n",
              "</table>\n",
              "</div>"
            ],
            "text/plain": [
              "                                   avaliacao-criticos  avaliacao-usuarios\n",
              "nome                                                                     \n",
              ".hack: Sekai no Mukou ni + Versus                 NaN                 NaN\n",
              "101-in-1 Sports Party Megamix               41.000000                 NaN\n",
              "11eyes: CrossOver                                 NaN                 NaN\n",
              "2010 FIFA World Cup South Africa            76.166667                 7.6\n",
              "3D Dot Game Heroes                          77.000000                 7.9"
            ]
          },
          "metadata": {
            "tags": []
          },
          "execution_count": 16
        }
      ]
    },
    {
      "cell_type": "code",
      "metadata": {
        "colab": {
          "base_uri": "https://localhost:8080/",
          "height": 434
        },
        "id": "Vf-2mPeDxIZL",
        "outputId": "b1fb8b8c-3d03-4f04-92ab-632dfac081ce"
      },
      "source": [
        "data_unified = pd.concat([data_primeiro, data_sum, data_avg], axis=1).reset_index().copy()\r\n",
        "data_unified.head()"
      ],
      "execution_count": null,
      "outputs": [
        {
          "output_type": "execute_result",
          "data": {
            "text/html": [
              "<div>\n",
              "<style scoped>\n",
              "    .dataframe tbody tr th:only-of-type {\n",
              "        vertical-align: middle;\n",
              "    }\n",
              "\n",
              "    .dataframe tbody tr th {\n",
              "        vertical-align: top;\n",
              "    }\n",
              "\n",
              "    .dataframe thead th {\n",
              "        text-align: right;\n",
              "    }\n",
              "</style>\n",
              "<table border=\"1\" class=\"dataframe\">\n",
              "  <thead>\n",
              "    <tr style=\"text-align: right;\">\n",
              "      <th></th>\n",
              "      <th>nome</th>\n",
              "      <th>editora</th>\n",
              "      <th>lancamento</th>\n",
              "      <th>fabricante</th>\n",
              "      <th>vendas</th>\n",
              "      <th>plataforma_3DS</th>\n",
              "      <th>plataforma_PS3</th>\n",
              "      <th>plataforma_PS4</th>\n",
              "      <th>plataforma_PSP</th>\n",
              "      <th>plataforma_PSV</th>\n",
              "      <th>plataforma_Wii</th>\n",
              "      <th>plataforma_WiiU</th>\n",
              "      <th>plataforma_X360</th>\n",
              "      <th>plataforma_XOne</th>\n",
              "      <th>genero_Action</th>\n",
              "      <th>genero_Adventure</th>\n",
              "      <th>genero_Fighting</th>\n",
              "      <th>genero_Misc</th>\n",
              "      <th>genero_Platform</th>\n",
              "      <th>genero_Puzzle</th>\n",
              "      <th>genero_Racing</th>\n",
              "      <th>genero_Role-Playing</th>\n",
              "      <th>genero_Shooter</th>\n",
              "      <th>genero_Simulation</th>\n",
              "      <th>genero_Sports</th>\n",
              "      <th>genero_Strategy</th>\n",
              "      <th>numero-criticos</th>\n",
              "      <th>numero-usuarios</th>\n",
              "      <th>avaliacao-criticos</th>\n",
              "      <th>avaliacao-usuarios</th>\n",
              "    </tr>\n",
              "  </thead>\n",
              "  <tbody>\n",
              "    <tr>\n",
              "      <th>0</th>\n",
              "      <td>.hack: Sekai no Mukou ni + Versus</td>\n",
              "      <td>Namco Bandai Games</td>\n",
              "      <td>NaT</td>\n",
              "      <td>None</td>\n",
              "      <td>0.03</td>\n",
              "      <td>0</td>\n",
              "      <td>1</td>\n",
              "      <td>0</td>\n",
              "      <td>0</td>\n",
              "      <td>0</td>\n",
              "      <td>0</td>\n",
              "      <td>0</td>\n",
              "      <td>0</td>\n",
              "      <td>0</td>\n",
              "      <td>1</td>\n",
              "      <td>0</td>\n",
              "      <td>0</td>\n",
              "      <td>0</td>\n",
              "      <td>0</td>\n",
              "      <td>0</td>\n",
              "      <td>0</td>\n",
              "      <td>0</td>\n",
              "      <td>0</td>\n",
              "      <td>0</td>\n",
              "      <td>0</td>\n",
              "      <td>0</td>\n",
              "      <td>0.0</td>\n",
              "      <td>0.0</td>\n",
              "      <td>NaN</td>\n",
              "      <td>NaN</td>\n",
              "    </tr>\n",
              "    <tr>\n",
              "      <th>1</th>\n",
              "      <td>101-in-1 Sports Party Megamix</td>\n",
              "      <td>Nordcurrent</td>\n",
              "      <td>2011-01-13</td>\n",
              "      <td>Nordcurrent</td>\n",
              "      <td>0.03</td>\n",
              "      <td>0</td>\n",
              "      <td>0</td>\n",
              "      <td>0</td>\n",
              "      <td>0</td>\n",
              "      <td>0</td>\n",
              "      <td>1</td>\n",
              "      <td>0</td>\n",
              "      <td>0</td>\n",
              "      <td>0</td>\n",
              "      <td>0</td>\n",
              "      <td>0</td>\n",
              "      <td>0</td>\n",
              "      <td>0</td>\n",
              "      <td>0</td>\n",
              "      <td>0</td>\n",
              "      <td>0</td>\n",
              "      <td>0</td>\n",
              "      <td>0</td>\n",
              "      <td>0</td>\n",
              "      <td>1</td>\n",
              "      <td>0</td>\n",
              "      <td>7.0</td>\n",
              "      <td>0.0</td>\n",
              "      <td>41.000000</td>\n",
              "      <td>NaN</td>\n",
              "    </tr>\n",
              "    <tr>\n",
              "      <th>2</th>\n",
              "      <td>11eyes: CrossOver</td>\n",
              "      <td>5pb</td>\n",
              "      <td>NaT</td>\n",
              "      <td>None</td>\n",
              "      <td>0.06</td>\n",
              "      <td>0</td>\n",
              "      <td>0</td>\n",
              "      <td>0</td>\n",
              "      <td>1</td>\n",
              "      <td>0</td>\n",
              "      <td>0</td>\n",
              "      <td>0</td>\n",
              "      <td>2</td>\n",
              "      <td>0</td>\n",
              "      <td>0</td>\n",
              "      <td>3</td>\n",
              "      <td>0</td>\n",
              "      <td>0</td>\n",
              "      <td>0</td>\n",
              "      <td>0</td>\n",
              "      <td>0</td>\n",
              "      <td>0</td>\n",
              "      <td>0</td>\n",
              "      <td>0</td>\n",
              "      <td>0</td>\n",
              "      <td>0</td>\n",
              "      <td>0.0</td>\n",
              "      <td>0.0</td>\n",
              "      <td>NaN</td>\n",
              "      <td>NaN</td>\n",
              "    </tr>\n",
              "    <tr>\n",
              "      <th>3</th>\n",
              "      <td>2010 FIFA World Cup South Africa</td>\n",
              "      <td>Electronic Arts</td>\n",
              "      <td>2010-04-27</td>\n",
              "      <td>Electronic Arts</td>\n",
              "      <td>4.02</td>\n",
              "      <td>0</td>\n",
              "      <td>1</td>\n",
              "      <td>0</td>\n",
              "      <td>1</td>\n",
              "      <td>0</td>\n",
              "      <td>2</td>\n",
              "      <td>0</td>\n",
              "      <td>2</td>\n",
              "      <td>0</td>\n",
              "      <td>0</td>\n",
              "      <td>0</td>\n",
              "      <td>0</td>\n",
              "      <td>0</td>\n",
              "      <td>0</td>\n",
              "      <td>0</td>\n",
              "      <td>0</td>\n",
              "      <td>0</td>\n",
              "      <td>0</td>\n",
              "      <td>0</td>\n",
              "      <td>6</td>\n",
              "      <td>0</td>\n",
              "      <td>227.0</td>\n",
              "      <td>165.0</td>\n",
              "      <td>76.166667</td>\n",
              "      <td>7.6</td>\n",
              "    </tr>\n",
              "    <tr>\n",
              "      <th>4</th>\n",
              "      <td>3D Dot Game Heroes</td>\n",
              "      <td>SouthPeak Games</td>\n",
              "      <td>2010-05-11</td>\n",
              "      <td>Silicon Studio</td>\n",
              "      <td>0.51</td>\n",
              "      <td>0</td>\n",
              "      <td>1</td>\n",
              "      <td>0</td>\n",
              "      <td>0</td>\n",
              "      <td>0</td>\n",
              "      <td>0</td>\n",
              "      <td>0</td>\n",
              "      <td>0</td>\n",
              "      <td>0</td>\n",
              "      <td>0</td>\n",
              "      <td>0</td>\n",
              "      <td>0</td>\n",
              "      <td>0</td>\n",
              "      <td>0</td>\n",
              "      <td>0</td>\n",
              "      <td>0</td>\n",
              "      <td>1</td>\n",
              "      <td>0</td>\n",
              "      <td>0</td>\n",
              "      <td>0</td>\n",
              "      <td>0</td>\n",
              "      <td>66.0</td>\n",
              "      <td>77.0</td>\n",
              "      <td>77.000000</td>\n",
              "      <td>7.9</td>\n",
              "    </tr>\n",
              "  </tbody>\n",
              "</table>\n",
              "</div>"
            ],
            "text/plain": [
              "                                nome  ... avaliacao-usuarios\n",
              "0  .hack: Sekai no Mukou ni + Versus  ...                NaN\n",
              "1      101-in-1 Sports Party Megamix  ...                NaN\n",
              "2                  11eyes: CrossOver  ...                NaN\n",
              "3   2010 FIFA World Cup South Africa  ...                7.6\n",
              "4                 3D Dot Game Heroes  ...                7.9\n",
              "\n",
              "[5 rows x 30 columns]"
            ]
          },
          "metadata": {
            "tags": []
          },
          "execution_count": 17
        }
      ]
    },
    {
      "cell_type": "markdown",
      "metadata": {
        "id": "6mHSwtGBzkkB"
      },
      "source": [
        "### Lidando com os NaNs"
      ]
    },
    {
      "cell_type": "markdown",
      "metadata": {
        "id": "VLiPqOzf1tcM"
      },
      "source": [
        "Agora, para lidar com “NaNs”, para os valores de \"Vendas\", \"Avaliação-críticos\" e \"Avaliação-usuários\":\n",
        "\n",
        " Usamos as médias para preencher os “NaNs”. Para os usuários que avaliaram, julgamos que como não havia avaliações seria mais justo colocar 1 nos NaN, como se essa avaliação da média viesse de uma pessoa só.\n"
      ]
    },
    {
      "cell_type": "code",
      "metadata": {
        "colab": {
          "base_uri": "https://localhost:8080/"
        },
        "id": "Fl9txuk1ztkB",
        "outputId": "3dd78d3a-3aef-437d-b96e-e52c418f4dea"
      },
      "source": [
        "mean_rows = data_unified[['vendas','avaliacao-criticos','avaliacao-usuarios']].mean()\r\n",
        "data_unified[['vendas','avaliacao-criticos','avaliacao-usuarios']].fillna(mean_rows, inplace=True)\r\n",
        "data_unified[['numero-criticos','numero-usuarios']].fillna(1, inplace=True)"
      ],
      "execution_count": null,
      "outputs": [
        {
          "output_type": "stream",
          "text": [
            "/usr/local/lib/python3.6/dist-packages/pandas/core/series.py:4536: SettingWithCopyWarning: \n",
            "A value is trying to be set on a copy of a slice from a DataFrame\n",
            "\n",
            "See the caveats in the documentation: https://pandas.pydata.org/pandas-docs/stable/user_guide/indexing.html#returning-a-view-versus-a-copy\n",
            "  downcast=downcast,\n",
            "/usr/local/lib/python3.6/dist-packages/pandas/core/frame.py:4327: SettingWithCopyWarning: \n",
            "A value is trying to be set on a copy of a slice from a DataFrame\n",
            "\n",
            "See the caveats in the documentation: https://pandas.pydata.org/pandas-docs/stable/user_guide/indexing.html#returning-a-view-versus-a-copy\n",
            "  downcast=downcast,\n"
          ],
          "name": "stderr"
        }
      ]
    },
    {
      "cell_type": "markdown",
      "metadata": {
        "id": "SZ8GQhpr2_x-"
      },
      "source": [
        "Para as datas de lançamento, editora e fabricante, optamos manter as colunas mesmo com os “NaNs” e ,caso os dados sejam utilizados, não iremos usar as instâncias que os têm como “NaN”."
      ]
    },
    {
      "cell_type": "markdown",
      "metadata": {
        "id": "yLJ9BcSRGi1v"
      },
      "source": [
        "### Padronização de Valores"
      ]
    },
    {
      "cell_type": "markdown",
      "metadata": {
        "id": "I9_w37r450xC"
      },
      "source": [
        "No fim, iremos padronizar as colunas de valores do tipo “Float”"
      ]
    },
    {
      "cell_type": "code",
      "metadata": {
        "id": "tDDMMM9RGnpH"
      },
      "source": [
        "AvUserScaler = skp.StandardScaler()\r\n",
        "AvCritScaler = skp.StandardScaler()\r\n",
        "VendasScaler = skp.MinMaxScaler()"
      ],
      "execution_count": null,
      "outputs": []
    },
    {
      "cell_type": "code",
      "metadata": {
        "id": "ARZWWgXk4gAL"
      },
      "source": [
        "data_unified['avaliacao-usuarios'] = AvUserScaler.fit_transform(data_unified['avaliacao-usuarios'].values.reshape(-1,1))\r\n",
        "data_unified['avaliacao-criticos'] = AvCritScaler.fit_transform(data_unified['avaliacao-criticos'].values.reshape(-1,1))\r\n",
        "data_unified['vendas'] = VendasScaler.fit_transform(data_unified['vendas'].values.reshape(-1,1))"
      ],
      "execution_count": null,
      "outputs": []
    },
    {
      "cell_type": "code",
      "metadata": {
        "colab": {
          "base_uri": "https://localhost:8080/",
          "height": 282
        },
        "id": "HRd3RZ4o5D7C",
        "outputId": "78883688-af56-4ca3-a7b7-1239464771fc"
      },
      "source": [
        "data_unified['avaliacao-criticos'].plot.hist(bins=16)"
      ],
      "execution_count": null,
      "outputs": [
        {
          "output_type": "execute_result",
          "data": {
            "text/plain": [
              "<matplotlib.axes._subplots.AxesSubplot at 0x7fcb78a4b4e0>"
            ]
          },
          "metadata": {
            "tags": []
          },
          "execution_count": 21
        },
        {
          "output_type": "display_data",
          "data": {
            "image/png": "[encoded data removed]",
            "text/plain": [
              "<Figure size 432x288 with 1 Axes>"
            ]
          },
          "metadata": {
            "tags": [],
            "needs_background": "light"
          }
        }
      ]
    }
  ]
}